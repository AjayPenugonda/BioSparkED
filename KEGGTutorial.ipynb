{
 "cells": [
  {
   "cell_type": "markdown",
   "metadata": {},
   "source": [
    "# Tutorial for Accessing KEGG with BioServices\n",
    "\n",
    "This tutorial will guide you through accessing the Kyoto Encyclopedia of Genes and Genomes (KEGG) using the `BioServices` Python package. KEGG is a comprehensive database resource for understanding high-level functions and utilities of the biological system. `BioServices` is a Python package that provides a programmatic interface to many bioinformatics databases.\n",
    "\n",
    "## Installation\n",
    "\n",
    "First, you need to install the `bioservices` package. You can install it using pip:"
   ]
  },
  {
   "cell_type": "code",
   "execution_count": null,
   "metadata": {},
   "outputs": [],
   "source": [
    "!pip install bioservices"
   ]
  },
  {
   "cell_type": "markdown",
   "metadata": {},
   "source": [
    "## Importing the KEGG Module\n",
    "After installation, you can import the KEGG service from the bioservices package:"
   ]
  },
  {
   "cell_type": "code",
   "execution_count": null,
   "metadata": {},
   "outputs": [],
   "source": [
    "from bioservices import KEGG"
   ]
  },
  {
   "cell_type": "markdown",
   "metadata": {},
   "source": [
    "Create an instance of the KEGG service:"
   ]
  },
  {
   "cell_type": "code",
   "execution_count": null,
   "metadata": {},
   "outputs": [],
   "source": [
    "k = KEGG()"
   ]
  },
  {
   "cell_type": "markdown",
   "metadata": {},
   "source": [
    "## Basic Usage\n",
    "### List Available Databases\n",
    "To get a list of databases available in KEGG, use the list_databases method:"
   ]
  },
  {
   "cell_type": "code",
   "execution_count": null,
   "metadata": {},
   "outputs": [],
   "source": [
    "databases = k.list_databases()\n",
    "print(databases)"
   ]
  },
  {
   "cell_type": "markdown",
   "metadata": {},
   "source": [
    "### Search For Entries"
   ]
  },
  {
   "cell_type": "code",
   "execution_count": null,
   "metadata": {},
   "outputs": [],
   "source": [
    "databases = k.list_databases()\n",
    "print(databases)"
   ]
  },
  {
   "cell_type": "markdown",
   "metadata": {},
   "source": [
    "### Get Entry Information\n",
    "To retrieve detailed information about a specific entry, use the get method. For example, to get information on the KEGG pathway for insulin signaling (hsa04910):"
   ]
  },
  {
   "cell_type": "code",
   "execution_count": null,
   "metadata": {},
   "outputs": [],
   "source": [
    "entry = k.get(\"pathway:hsa04910\")\n",
    "print(entry)"
   ]
  },
  {
   "cell_type": "markdown",
   "metadata": {},
   "source": [
    "### Get a List of Pathways for an Organism:\n",
    "To get a list of pathways for a specific organism, use the list method with the organism code (e.g., 'hsa' for Homo sapiens):"
   ]
  },
  {
   "cell_type": "code",
   "execution_count": null,
   "metadata": {},
   "outputs": [],
   "source": [
    "pathways = k.list(\"pathway\", \"hsa\")\n",
    "print(pathways)"
   ]
  },
  {
   "cell_type": "markdown",
   "metadata": {},
   "source": [
    "## Advanced Usage\n",
    "### Parse KEGG Pathway\n",
    "The information retrieved from KEGG can be in various formats. For example, to parse the pathway map for visualization or further analysis, you can use parse_kgml_pathway method:"
   ]
  },
  {
   "cell_type": "code",
   "execution_count": null,
   "metadata": {},
   "outputs": [],
   "source": [
    "from bioservices.kegg import KEGGParser\n",
    "\n",
    "pathway_data = k.get(\"pathway:hsa04910\", \"kgml\")\n",
    "parser = KEGGParser()\n",
    "pathway = parser.parse_kgml_pathway(pathway_data)\n",
    "print(pathway)"
   ]
  },
  {
   "cell_type": "markdown",
   "metadata": {},
   "source": [
    "### Visualize Pathways\n",
    "You can also visualize KEGG pathways using additional libraries like networkx and matplotlib:"
   ]
  },
  {
   "cell_type": "code",
   "execution_count": null,
   "metadata": {},
   "outputs": [],
   "source": [
    "import networkx as nx\n",
    "import matplotlib.pyplot as plt\n",
    "\n",
    "# Create a networkx graph from KEGG pathway\n",
    "G = parser.get_networkx_graph(pathway)\n",
    "\n",
    "# Draw the graph\n",
    "plt.figure(figsize=(10, 8))\n",
    "nx.draw(G, with_labels=True, node_color='skyblue', font_size=10)\n",
    "plt.show()"
   ]
  },
  {
   "cell_type": "markdown",
   "metadata": {},
   "source": [
    "### Example Workflow\n",
    "Let's put together a simple workflow to illustrate a typical use case:"
   ]
  },
  {
   "cell_type": "code",
   "execution_count": null,
   "metadata": {},
   "outputs": [],
   "source": [
    "# 1. List Available Databases\n",
    "databases = k.list_databases()\n",
    "print(\"Available databases:\", databases)\n",
    "# 2. Find pathways related to a keyword (e.g., \"cancer\"):\n",
    "cancer_pathways = k.find(\"pathway\", \"cancer\")\n",
    "print(\"Cancer-related pathways:\", cancer_pathways)\n",
    "# Retrieve and parse a specific pathway (e.g., hsa05200 - Pathways in cancer):\n",
    "pathway_info = k.get(\"pathway:hsa05200\")\n",
    "print(\"Pathway information for hsa05200:\", pathway_info)\n",
    "\n",
    "pathway_data = k.get(\"pathway:hsa05200\", \"kgml\")\n",
    "pathway = parser.parse_kgml_pathway(pathway_data)\n",
    "print(\"Parsed pathway data:\", pathway)\n",
    "#4. Visualize the pathway:\n",
    "G = parser.get_networkx_graph(pathway)\n",
    "plt.figure(figsize=(12, 10))\n",
    "nx.draw(G, with_labels=True, node_color='lightgreen', font_size=12, font_color='black', node_size=500)\n",
    "plt.title(\"Pathway in Cancer (hsa05200)\")\n",
    "plt.show()"
   ]
  },
  {
   "cell_type": "markdown",
   "metadata": {},
   "source": [
    "## Conclusion\n",
    "This tutorial provided an overview of how to use the bioservices package to interact with the KEGG database. By following these steps, you can retrieve, parse, and visualize pathway information programmatically, enabling efficient bioinformatics research and analysis. For more advanced functionalities and options, refer to the official [BioServices](https://bioservices.readthedocs.io/en/latest/kegg_tutorial.html) documentation."
   ]
  }
 ],
 "metadata": {
  "language_info": {
   "name": "python"
  }
 },
 "nbformat": 4,
 "nbformat_minor": 2
}
